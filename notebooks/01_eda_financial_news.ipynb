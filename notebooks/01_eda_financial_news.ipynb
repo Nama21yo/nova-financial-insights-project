{
 "cells": [
  {
   "cell_type": "markdown",
   "id": "306b01e7",
   "metadata": {},
   "source": [
    "# Major Imports"
   ]
  },
  {
   "cell_type": "code",
   "execution_count": null,
   "id": "6c06000d",
   "metadata": {
    "vscode": {
     "languageId": "plaintext"
    }
   },
   "outputs": [],
   "source": [
    "\n",
    "import pandas as pd\n",
    "import numpy as np\n",
    "import matplotlib.pyplot as plt\n",
    "import seaborn as sns\n",
    "from collections import Counter\n",
    "import nltk\n",
    "from nltk.corpus import stopwords\n",
    "from nltk.tokenize import word_tokenize\n",
    "from sklearn.feature_extraction.text import CountVectorizer\n"
   ]
  },
  {
   "cell_type": "markdown",
   "id": "2756ccbb",
   "metadata": {},
   "source": [
    "# --- 1. Load Data ---"
   ]
  },
  {
   "cell_type": "code",
   "execution_count": null,
   "id": "2c584d49",
   "metadata": {
    "vscode": {
     "languageId": "plaintext"
    }
   },
   "outputs": [],
   "source": [
    "try:\n",
    "    # Adjust path if your CSV is elsewhere\n",
    "    news_df = pd.read_csv('../data/raw/financial_news.csv')\n",
    "except FileNotFoundError:\n",
    "    print(\"Error: financial_news.csv not found. Please ensure it's in the 'data/raw' directory.\")\n",
    "\n",
    "\n",
    "print(\"--- Data Understanding ---\")\n",
    "print(\"Shape:\", news_df.shape)\n",
    "print(\"\\nInfo:\")\n",
    "news_df.info()\n",
    "print(\"\\nFirst 5 rows:\")\n",
    "print(news_df.head())\n",
    "print(\"\\nMissing values:\")\n",
    "print(news_df.isnull().sum())"
   ]
  },
  {
   "cell_type": "markdown",
   "id": "d1f64795",
   "metadata": {},
   "source": [
    "# --- 2. Data Cleaning & Preprocessing (Basic) ---"
   ]
  },
  {
   "cell_type": "code",
   "execution_count": null,
   "id": "ffd39307",
   "metadata": {
    "vscode": {
     "languageId": "plaintext"
    }
   },
   "outputs": [],
   "source": [
    "# Convert 'date' to datetime objects\n",
    "# The format includes timezone offset, pandas handles this well\n",
    "news_df['date'] = pd.to_datetime(news_df['date'], errors='coerce') # errors='coerce' will turn unparseable dates into NaT\n",
    "\n",
    "# Drop rows where date conversion failed (if any)\n",
    "news_df.dropna(subset=['date'], inplace=True)\n",
    "\n",
    "# Ensure 'headline' is string\n",
    "news_df['headline'] = news_df['headline'].astype(str)"
   ]
  }
 ],
 "metadata": {
  "language_info": {
   "name": "python"
  }
 },
 "nbformat": 4,
 "nbformat_minor": 5
}
